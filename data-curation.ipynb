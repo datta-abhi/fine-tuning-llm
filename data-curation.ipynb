{
 "cells": [
  {
   "cell_type": "markdown",
   "metadata": {},
   "source": [
    "## Fine- Tuning LLM for Price Prediction\n",
    "Given a product description, we want to predict its price."
   ]
  },
  {
   "cell_type": "code",
   "execution_count": 22,
   "metadata": {},
   "outputs": [],
   "source": [
    "# imports\n",
    "\n",
    "import os\n",
    "import numpy as np\n",
    "import pandas as pd\n",
    "from dotenv import load_dotenv\n",
    "from huggingface_hub import login\n",
    "from datasets import load_dataset,Dataset,DatasetDict\n",
    "# from items import Item\n",
    "import matplotlib.pyplot as plt"
   ]
  },
  {
   "cell_type": "code",
   "execution_count": 5,
   "metadata": {},
   "outputs": [],
   "source": [
    "%matplotlib inline"
   ]
  },
  {
   "cell_type": "code",
   "execution_count": 3,
   "metadata": {},
   "outputs": [],
   "source": [
    "# loading environment keys\n",
    "load_dotenv()\n",
    "os.environ['OPENAI_API_KEY'] = os.getenv('OPENAI_API_KEY')\n",
    "os.environ['HF_TOKEN'] = os.getenv('HF_TOKEN')"
   ]
  },
  {
   "cell_type": "code",
   "execution_count": 4,
   "metadata": {},
   "outputs": [
    {
     "name": "stderr",
     "output_type": "stream",
     "text": [
      "Note: Environment variable`HF_TOKEN` is set and is the current active token independently from the token you've just configured.\n"
     ]
    }
   ],
   "source": [
    "hf_token = os.environ['HF_TOKEN']\n",
    "login(hf_token,add_to_git_credential=True)"
   ]
  },
  {
   "cell_type": "code",
   "execution_count": 13,
   "metadata": {},
   "outputs": [],
   "source": [
    "null_list = [None,'',[],{},'NA']"
   ]
  },
  {
   "cell_type": "markdown",
   "metadata": {},
   "source": [
    "## Loading our Dataset from Amazon Reviews Huggingface"
   ]
  },
  {
   "cell_type": "code",
   "execution_count": 6,
   "metadata": {},
   "outputs": [
    {
     "name": "stderr",
     "output_type": "stream",
     "text": [
      "c:\\Users\\abhid\\Desktop\\myprojects\\fine-tuning-llm\\.venv\\lib\\site-packages\\huggingface_hub\\file_download.py:140: UserWarning: `huggingface_hub` cache-system uses symlinks by default to efficiently store duplicated files but your machine does not support them in C:\\Users\\abhid\\.cache\\huggingface\\hub\\datasets--McAuley-Lab--Amazon-Reviews-2023. Caching files will still work but in a degraded version that might require more space on your disk. This warning can be disabled by setting the `HF_HUB_DISABLE_SYMLINKS_WARNING` environment variable. For more details, see https://huggingface.co/docs/huggingface_hub/how-to-cache#limitations.\n",
      "To support symlinks on Windows, you either need to activate Developer Mode or to run Python as an administrator. In order to activate developer mode, see this article: https://docs.microsoft.com/en-us/windows/apps/get-started/enable-your-device-for-development\n",
      "  warnings.warn(message)\n",
      "Generating full split: 94327 examples [00:17, 5514.03 examples/s]\n"
     ]
    }
   ],
   "source": [
    "dataset = load_dataset(\"McAuley-Lab/Amazon-Reviews-2023\", f\"raw_meta_Appliances\",split = 'full', trust_remote_code=True)"
   ]
  },
  {
   "cell_type": "code",
   "execution_count": 9,
   "metadata": {},
   "outputs": [
    {
     "name": "stdout",
     "output_type": "stream",
     "text": [
      "Nos of appliances:  94327\n"
     ]
    }
   ],
   "source": [
    "print('Nos of appliances: ',len(dataset))"
   ]
  },
  {
   "cell_type": "markdown",
   "metadata": {},
   "source": [
    "### Viewing a sample datapoint"
   ]
  },
  {
   "cell_type": "code",
   "execution_count": 11,
   "metadata": {},
   "outputs": [
    {
     "data": {
      "text/plain": [
       "{'main_category': 'Tools & Home Improvement',\n",
       " 'title': 'Edgewater Parts AP2039084-4 Rack Rollers Compatible With GE Dishwasher 4 Pack',\n",
       " 'average_rating': 5.0,\n",
       " 'rating_number': 2,\n",
       " 'features': ['AP2039084-4 Rack Rollers Compatible With GE Dishwashers',\n",
       "  '1 YEAR WARRANTY',\n",
       "  'Replaces WD12X271, 2493, AH259136, DW113, DW604, EA259136, PS259136, WD12X0271, WD12X0426, WD12X0440, WD12X426, WD12X440',\n",
       "  'Color White'],\n",
       " 'description': ['AP2039084-4 Rack Rollers Compatible With GE Dishwasher Non-OEM replacement Replaces WD12X271, 2493, AH259136, DW113, DW604, EA259136, PS259136, WD12X0271, WD12X0426, WD12X0440, WD12X426, WD12X440 Color White'],\n",
       " 'price': '9.95',\n",
       " 'images': {'hi_res': ['https://m.media-amazon.com/images/I/51Pm1OHujBL._AC_SL1000_.jpg',\n",
       "   'https://m.media-amazon.com/images/I/61zWDuzv9gL._AC_SL1001_.jpg'],\n",
       "  'large': ['https://m.media-amazon.com/images/I/317qiLSbo4L._AC_.jpg',\n",
       "   'https://m.media-amazon.com/images/I/41Av6g9rmcL._AC_.jpg'],\n",
       "  'thumb': ['https://m.media-amazon.com/images/I/317qiLSbo4L._AC_US75_.jpg',\n",
       "   'https://m.media-amazon.com/images/I/41Av6g9rmcL._AC_US75_.jpg'],\n",
       "  'variant': ['MAIN', 'PT01']},\n",
       " 'videos': {'title': [], 'url': [], 'user_id': []},\n",
       " 'store': 'Edgewater Parts',\n",
       " 'categories': ['Appliances', 'Parts & Accessories'],\n",
       " 'details': '{\"Manufacturer\": \"Edgewater Parts\", \"Part Number\": \"AP2039084-4\", \"Item Weight\": \"6 ounces\", \"Package Dimensions\": \"6 x 6 x 1 inches\", \"Is Discontinued By Manufacturer\": \"No\", \"Batteries Included?\": \"No\", \"Batteries Required?\": \"No\", \"Best Sellers Rank\": {\"Tools & Home Improvement\": 1652026, \"Parts & Accessories\": 242654}, \"Date First Available\": \"June 1, 2016\"}',\n",
       " 'parent_asin': 'B01GGKIPE0',\n",
       " 'bought_together': None,\n",
       " 'subtitle': None,\n",
       " 'author': None}"
      ]
     },
     "execution_count": 11,
     "metadata": {},
     "output_type": "execute_result"
    }
   ],
   "source": [
    "datapoint = dataset[-1]\n",
    "datapoint"
   ]
  },
  {
   "cell_type": "markdown",
   "metadata": {},
   "source": [
    "## Observations\n",
    "1) main category and title comes as text strings  \n",
    "2) features come as list of text strings  \n",
    "3) description also comes as list  \n",
    "4) price comes as a string float or may come as float\n",
    "5) details come as json encased in a string\n",
    "6) Some appliances don't have price, so we have to exclude them.  \n",
    "7) If they don't have title , we'll exclude those also\n"
   ]
  },
  {
   "cell_type": "code",
   "execution_count": 12,
   "metadata": {},
   "outputs": [
    {
     "name": "stdout",
     "output_type": "stream",
     "text": [
      "49.53618794194663\n"
     ]
    }
   ],
   "source": [
    "# How many have prices and titles\n",
    "counter = 0\n",
    "for d in dataset:\n",
    "    try:\n",
    "        price = float(d['price'])\n",
    "        if price>0:\n",
    "            counter+=1\n",
    "    except:\n",
    "        continue\n",
    "    \n",
    "print(100*counter/len(dataset))        "
   ]
  },
  {
   "cell_type": "code",
   "execution_count": null,
   "metadata": {},
   "outputs": [
    {
     "name": "stdout",
     "output_type": "stream",
     "text": [
      "{'main_category': 'Tools & Home Improvement', 'title': '', 'average_rating': 3.6, 'rating_number': 8, 'features': [], 'description': [], 'price': 'None', 'images': {'hi_res': ['https://m.media-amazon.com/images/I/81P6cfqi4tL._AC_SL1500_.jpg', 'https://m.media-amazon.com/images/I/81G8yppnckL._AC_SL1500_.jpg', 'https://m.media-amazon.com/images/I/61GCtouPzrL._AC_SL1000_.jpg', 'https://m.media-amazon.com/images/I/61OrU4vS4rL._AC_SL1000_.jpg', 'https://m.media-amazon.com/images/I/61kCKbzIuUL._AC_SL1000_.jpg', 'https://m.media-amazon.com/images/I/61IljZl+2CL._AC_SL1000_.jpg', 'https://m.media-amazon.com/images/I/61GpbNtR5IL._AC_SL1000_.jpg'], 'large': ['https://m.media-amazon.com/images/I/41DXKVACdnL._AC_.jpg', 'https://m.media-amazon.com/images/I/41iLycS5ZAL._AC_.jpg', 'https://m.media-amazon.com/images/I/51DrYPCzItL._AC_.jpg', 'https://m.media-amazon.com/images/I/51ZNht6MD+L._AC_.jpg', 'https://m.media-amazon.com/images/I/51vUtny05oL._AC_.jpg', 'https://m.media-amazon.com/images/I/51OAlDQM3YL._AC_.jpg', 'https://m.media-amazon.com/images/I/51Pf-tu3ELL._AC_.jpg'], 'thumb': ['https://m.media-amazon.com/images/I/41DXKVACdnL._AC_US75_.jpg', 'https://m.media-amazon.com/images/I/41iLycS5ZAL._AC_US75_.jpg', 'https://m.media-amazon.com/images/I/51DrYPCzItL._AC_US75_.jpg', 'https://m.media-amazon.com/images/I/51ZNht6MD+L._AC_US75_.jpg', 'https://m.media-amazon.com/images/I/51vUtny05oL._AC_US75_.jpg', 'https://m.media-amazon.com/images/I/51OAlDQM3YL._AC_US75_.jpg', 'https://m.media-amazon.com/images/I/51Pf-tu3ELL._AC_US75_.jpg'], 'variant': ['MAIN', 'PT01', 'PT02', 'PT03', 'PT04', 'PT05', 'PT06']}, 'videos': {'title': [], 'url': [], 'user_id': []}, 'store': None, 'categories': ['Appliances', 'Parts & Accessories', 'Range Parts & Accessories', 'Accessories'], 'details': '{\"Part Number\": \"B. SHINE\", \"Item Weight\": \"4.1 ounces\", \"Package Dimensions\": \"10.75 x 10.71 x 0.04 inches\", \"Is Discontinued By Manufacturer\": \"No\", \"Batteries Included?\": \"No\", \"Batteries Required?\": \"No\", \"Date First Available\": \"March 8, 2019\"}', 'parent_asin': 'B07KPCJ56Z', 'bought_together': None, 'subtitle': None, 'author': None}\n",
      "------------------------------------------------------------\n",
      "{'main_category': 'Tools & Home Improvement', 'title': '', 'average_rating': 4.3, 'rating_number': 7, 'features': ['SPRING, DOOR (2)', 'Works with the following models: Whirlpool 7DU910PFGB0, Whirlpool 7DU912PFGQ0', 'Whirlpool 7DU920PWKB0, Whirlpool 7DU920PWKQ0, Whirlpool 7DU920PWKS0, Whirlpool CUD6710WB0'], 'description': ['SPRING, DOOR (2)'], 'price': 'None', 'images': {'hi_res': ['https://m.media-amazon.com/images/I/41CpOEMKSzL._AC_SL1000_.jpg', 'https://m.media-amazon.com/images/I/513DH7jy0eL._AC_SL1000_.jpg', 'https://m.media-amazon.com/images/I/91Fu20wwqSL._AC_SL1500_.jpg'], 'large': ['https://m.media-amazon.com/images/I/31kchsmx2DL._AC_.jpg', 'https://m.media-amazon.com/images/I/31HCqYhIVsL._AC_.jpg', 'https://m.media-amazon.com/images/I/51RDxWLzhML._AC_.jpg'], 'thumb': ['https://m.media-amazon.com/images/I/31kchsmx2DL._AC_US75_.jpg', 'https://m.media-amazon.com/images/I/31HCqYhIVsL._AC_US75_.jpg', 'https://m.media-amazon.com/images/I/51RDxWLzhML._AC_US75_.jpg'], 'variant': ['MAIN', 'PT01', 'PT06']}, 'videos': {'title': [], 'url': [], 'user_id': []}, 'store': 'Whirlpool', 'categories': ['Appliances', 'Parts & Accessories', 'Dishwasher Parts & Accessories'], 'details': '{\"Manufacturer\": \"Whirlpool\", \"Part Number\": \"3379383\", \"Item Weight\": \"1.45 pounds\", \"Package Dimensions\": \"3.1 x 2.8 x 2.3 inches\", \"Item model number\": \"3379383\", \"Is Discontinued By Manufacturer\": \"No\", \"Item Package Quantity\": \"1\", \"Batteries Included?\": \"No\", \"Batteries Required?\": \"No\", \"Best Sellers Rank\": {\"Tools & Home Improvement\": 1269074, \"Dishwasher Parts & Accessories\": 4598}, \"Date First Available\": \"August 2, 2008\"}', 'parent_asin': 'B001DPXYVI', 'bought_together': None, 'subtitle': None, 'author': None}\n",
      "------------------------------------------------------------\n",
      "{'main_category': 'Tools & Home Improvement', 'title': '', 'average_rating': 2.4, 'rating_number': 2, 'features': ['This is an O.E.M. Authorized part', 'This is an authorized aftermarket product', 'Fits with various WB27T11023 brand models'], 'description': ['This is an O.E.M. Authorized part . This is an authorized aftermarket product. Fits with various WB27T11023 brand models.'], 'price': 'None', 'images': {'hi_res': ['https://m.media-amazon.com/images/I/61Gdpt2hGbL._AC_SL1500_.jpg'], 'large': ['https://m.media-amazon.com/images/I/414OavxFsWL._AC_.jpg'], 'thumb': ['https://m.media-amazon.com/images/I/414OavxFsWL._AC_US75_.jpg'], 'variant': ['MAIN']}, 'videos': {'title': [], 'url': [], 'user_id': []}, 'store': 'GE', 'categories': ['Appliances', 'Parts & Accessories'], 'details': '{\"Manufacturer\": \"GE\", \"Part Number\": \"WB27T11023\", \"Item Weight\": \"24 pounds\", \"Product Dimensions\": \"36.5 x 6 x 10 inches\", \"Item model number\": \"WB27T11023\", \"Item Package Quantity\": \"1\", \"Included Components\": \"Appliance-replacement-parts, Appliance Parts & Accessories\", \"Batteries Required?\": \"No\", \"Best Sellers Rank\": {\"Tools & Home Improvement\": 1299415, \"Parts & Accessories\": 181700}, \"Date First Available\": \"June 8, 2016\"}', 'parent_asin': 'B0093RIVM0', 'bought_together': None, 'subtitle': None, 'author': None}\n",
      "------------------------------------------------------------\n",
      "{'main_category': 'Tools & Home Improvement', 'title': '', 'average_rating': 4.8, 'rating_number': 11, 'features': ['🛠 -Original Model No. WH13X10024', '🛠 -It is built exactly fit for GE, Hotpoint Washers, also replaces 1159233, AH1155105, EA1155105, PS1155105, WH13X0086, WH13X0087, WH13X10004, WH13X10019, WH13X86, WH13X87, B00M25Q6IQ, B00M25Q6IQ', '🛠 -Supported Models - GJSRP080B1WW, GJXRP080B1WW, GNSR2090T9WW, GSRE5600K0WW, GSRE5600K2WW, GSRE5600K3WW, GWRE6270K0WW, GWRE6270K2WW, GWRE6270K3WW, GWSE5240H0WW, WLE6500B2WW, WLE6500B3WW, WLRE4500G0WW, WLRE4500G1WW, WLRR4500G0WW, WLRR5000G0WW, WLRR5000G1WW, etc.', '🤝 HIGH QUALITY: The replacement part is made from durable high quality material and well-tested by the manufacturer.', '◕‿◕ AFTER-SALE GUARANTEE: 100% money back guarantee - If for whatever reason, you decide you are not satisfied, you can request a replacement or a full refund, no questions! If you have any problems please kindly contact us by logging in your Amazon Buyer Account > Click Your Account > your order > Find your order and click Contact Seller we will respond you in one business day .'], 'description': ['1'], 'price': 'None', 'images': {'hi_res': ['https://m.media-amazon.com/images/I/614rIGJHRkL._AC_SL1300_.jpg', 'https://m.media-amazon.com/images/I/61K2zN-pA2L._AC_SL1300_.jpg'], 'large': ['https://m.media-amazon.com/images/I/41+aqAoj8OL._AC_.jpg', 'https://m.media-amazon.com/images/I/31kPiX6TjNL._AC_.jpg'], 'thumb': ['https://m.media-amazon.com/images/I/41+aqAoj8OL._AC_US75_.jpg', 'https://m.media-amazon.com/images/I/31kPiX6TjNL._AC_US75_.jpg'], 'variant': ['MAIN', 'PT01']}, 'videos': {'title': [], 'url': [], 'user_id': []}, 'store': 'Daonsuty', 'categories': ['Appliances', 'Parts & Accessories', 'Washer Parts & Accessories', 'Drain Pumps'], 'details': '{\"Manufacturer\": \"YSLALCT\", \"Part Number\": \"YIROCKAABBCC\", \"Item Weight\": \"12 ounces\", \"Package Dimensions\": \"5.3 x 3.8 x 2.8 inches\", \"Item model number\": \"YIROCKAABBCC\", \"Size\": \"(15.4)/Gm.34\", \"Color\": \"(15.4)/Gm.34\", \"Power Source\": \"Corded Electric\", \"Item Package Quantity\": \"1\", \"Batteries Required?\": \"No\", \"Date First Available\": \"July 30, 2019\"}', 'parent_asin': 'B07T1BX2K7', 'bought_together': None, 'subtitle': None, 'author': None}\n",
      "------------------------------------------------------------\n",
      "{'main_category': 'Amazon Home', 'title': '', 'average_rating': 5.0, 'rating_number': 1, 'features': ['Make Sure This Fits By Entering Your Model Number.', 'Premium filtration: Certified to reduce chlorine-resistant cysts, lead, select pharmaceuticals and 15 other contaminants', 'Follow package instructions when you install this genuine MWF water filter.', 'It eliminates the expense and inconvenience of purchasing bottled water at a store or scheduling home delivery of bottled water'], 'description': ['MWF water filter'], 'price': '25.99', 'images': {'hi_res': ['https://m.media-amazon.com/images/I/51mFqKNKD8L._AC_SL1280_.jpg'], 'large': ['https://m.media-amazon.com/images/I/31H+EDyXe5L._AC_.jpg'], 'thumb': ['https://m.media-amazon.com/images/I/31H+EDyXe5L._AC_US75_.jpg'], 'variant': ['MAIN']}, 'videos': {'title': ['How to Change a 3M water filter'], 'url': ['https://www.amazon.com/vdp/035e0b206c2a45178756fc2ac37785a2?ref=dp_vse_rvc_0'], 'user_id': ['']}, 'store': 'WaterFilter', 'categories': ['Appliances', 'Parts & Accessories', 'Refrigerator Parts & Accessories', 'Water Filters'], 'details': '{\"Product Dimensions\": \"4.8 x 11 x 2.4 inches\", \"Item Weight\": \"1.41 pounds\", \"Manufacturer\": \"MWF filter\", \"Item model number\": \"MWF\", \"Best Sellers Rank\": {\"Tools & Home Improvement\": 1789269, \"In-Refrigerator Water Filters\": 8718}, \"Date First Available\": \"December 24, 2020\", \"Material\": \"Plastic\", \"External Testing Certification\": \"UL\", \"Brand\": \"WaterFilter\"}', 'parent_asin': 'B08R8W18RV', 'bought_together': None, 'subtitle': None, 'author': None}\n",
      "------------------------------------------------------------\n",
      "{'main_category': 'Tools & Home Improvement', 'title': '', 'average_rating': 5.0, 'rating_number': 2, 'features': ['General Electric (GENF0)', 'This is a genuine replacement part', 'Dishwasher-replacement-parts'], 'description': ['Product Description', 'This is a Genuine Replacement Part, The Model Number and Name for The Following Item: General Electric (GENF0) WD26X10020 Pump And Motor Assembly.', 'From the Manufacturer', 'This is a Genuine Replacement Part,The Model Number and Name for The Following Item: General Electric (GENF0) WD26X10020 Pump And Motor Assembly'], 'price': 'None', 'images': {'hi_res': ['https://m.media-amazon.com/images/I/81OSEnpPpyL._AC_SL1500_.jpg', 'https://m.media-amazon.com/images/I/91Ro-eccZmL._AC_SL1500_.jpg'], 'large': ['https://m.media-amazon.com/images/I/41tu3AtVb7L._AC_.jpg', 'https://m.media-amazon.com/images/I/51pvbNXLbHL._AC_.jpg'], 'thumb': ['https://m.media-amazon.com/images/I/41tu3AtVb7L._AC_US75_.jpg', 'https://m.media-amazon.com/images/I/51pvbNXLbHL._AC_US75_.jpg'], 'variant': ['MAIN', 'PT01']}, 'videos': {'title': [], 'url': [], 'user_id': []}, 'store': 'GE', 'categories': ['Appliances', 'Parts & Accessories'], 'details': '{\"Manufacturer\": \"General Electric\", \"Part Number\": \"WD26X10020\", \"Item Weight\": \"6 pounds\", \"Product Dimensions\": \"10.6 x 7 x 8.2 inches\", \"Item model number\": \"WD26X10020\", \"Item Package Quantity\": \"1\", \"Batteries Included?\": \"No\", \"Batteries Required?\": \"No\", \"Date First Available\": \"November 5, 2008\"}', 'parent_asin': 'B00MOCEU4E', 'bought_together': None, 'subtitle': None, 'author': None}\n",
      "------------------------------------------------------------\n",
      "{'main_category': 'Amazon Home', 'title': '', 'average_rating': 3.7, 'rating_number': 7, 'features': [], 'description': [], 'price': 'None', 'images': {'hi_res': ['https://m.media-amazon.com/images/I/51AKYxaQRoL._AC_SL1000_.jpg', None, None, None, None, None], 'large': ['https://m.media-amazon.com/images/I/317f1ITPbxL._AC_.jpg', 'https://m.media-amazon.com/images/I/317brwbwQGL._AC_.jpg', 'https://m.media-amazon.com/images/I/41hYC3QiFvL._AC_.jpg', 'https://m.media-amazon.com/images/I/31uGDSGrGeL._AC_.jpg', 'https://m.media-amazon.com/images/I/41QxMzs0bkL._AC_.jpg', 'https://m.media-amazon.com/images/I/41yuCOHXLnL._AC_.jpg'], 'thumb': ['https://m.media-amazon.com/images/I/317f1ITPbxL._AC_US75_.jpg', 'https://m.media-amazon.com/images/I/317brwbwQGL._AC_US75_.jpg', 'https://m.media-amazon.com/images/I/41hYC3QiFvL._AC_US75_.jpg', 'https://m.media-amazon.com/images/I/31uGDSGrGeL._AC_US75_.jpg', 'https://m.media-amazon.com/images/I/41QxMzs0bkL._AC_US75_.jpg', 'https://m.media-amazon.com/images/I/41yuCOHXLnL._AC_US75_.jpg'], 'variant': ['MAIN', 'PT01', 'PT02', 'PT03', 'PT04', 'PT05']}, 'videos': {'title': [], 'url': [], 'user_id': []}, 'store': 'Lautechco', 'categories': ['Small Appliance Parts & Accessories', 'Coffee & Espresso Machine Parts & Accessories', 'Espresso Machine Accessories', 'Milk Frothing Pitchers'], 'details': '{\"Package Dimensions\": \"3.5 x 2.9 x 2.5 inches\", \"Item Weight\": \"3.98 ounces\", \"Is Discontinued By Manufacturer\": \"No\", \"Date First Available\": \"November 16, 2017\", \"Brand\": \"Lautechco\", \"Material\": \"Stainless Steel\", \"Capacity\": \"150 Milliliters\", \"With Lid\": \"No\"}', 'parent_asin': 'B01N7BVJSC', 'bought_together': None, 'subtitle': None, 'author': None}\n",
      "------------------------------------------------------------\n",
      "{'main_category': 'Tools & Home Improvement', 'title': '', 'average_rating': 5.0, 'rating_number': 2, 'features': [], 'description': [], 'price': 'None', 'images': {'hi_res': ['https://m.media-amazon.com/images/I/61o+aOn+pHL._AC_SL1500_.jpg', 'https://m.media-amazon.com/images/I/71J2Tpb45UL._AC_SL1500_.jpg', 'https://m.media-amazon.com/images/I/71ae7dVncfL._AC_SL1500_.jpg', 'https://m.media-amazon.com/images/I/71NfvkF4FPL._AC_SL1500_.jpg', 'https://m.media-amazon.com/images/I/81xYv6ENlTL._AC_SL1500_.jpg', 'https://m.media-amazon.com/images/I/71MR0kcQeML._AC_SL1500_.jpg'], 'large': ['https://m.media-amazon.com/images/I/419jdlM0JiL._AC_.jpg', 'https://m.media-amazon.com/images/I/41haBzqeOcL._AC_.jpg', 'https://m.media-amazon.com/images/I/41pb2lZ9xJL._AC_.jpg', 'https://m.media-amazon.com/images/I/41fxwmbLDaL._AC_.jpg', 'https://m.media-amazon.com/images/I/516TX3AjcsL._AC_.jpg', 'https://m.media-amazon.com/images/I/51Yg8G-LbdL._AC_.jpg'], 'thumb': ['https://m.media-amazon.com/images/I/419jdlM0JiL._AC_US75_.jpg', 'https://m.media-amazon.com/images/I/41haBzqeOcL._AC_US75_.jpg', 'https://m.media-amazon.com/images/I/41pb2lZ9xJL._AC_US75_.jpg', 'https://m.media-amazon.com/images/I/41fxwmbLDaL._AC_US75_.jpg', 'https://m.media-amazon.com/images/I/516TX3AjcsL._AC_US75_.jpg', 'https://m.media-amazon.com/images/I/51Yg8G-LbdL._AC_US75_.jpg'], 'variant': ['MAIN', 'PT01', 'PT02', 'PT03', 'PT04', 'PT06']}, 'videos': {'title': [], 'url': [], 'user_id': []}, 'store': 'PartsBroz', 'categories': ['Appliances', 'Parts & Accessories', 'Dryer Parts & Accessories', 'Replacement Parts'], 'details': '{\"Part Number\": \"WD08X10016\", \"Item Weight\": \"6.4 ounces\", \"Package Dimensions\": \"9.6 x 8.3 x 1.7 inches\", \"Batteries Included?\": \"No\", \"Best Sellers Rank\": {\"Tools & Home Improvement\": 1128489, \"Dryer Replacement Parts\": 21040}, \"Date First Available\": \"August 27, 2020\"}', 'parent_asin': 'B08C8P5CPG', 'bought_together': None, 'subtitle': None, 'author': None}\n",
      "------------------------------------------------------------\n",
      "{'main_category': 'Tools & Home Improvement', 'title': '', 'average_rating': 5.0, 'rating_number': 4, 'features': ['3 Louver Size 8-1/4\" X 4-3/8', 'Pre-drilled with four holes and not included screws', '2 Pack of Stainless Steel Stamped Louvered Vent', 'All-welded 304 stainless steel construction with polished finish', 'Please allow 3-5 cm error due to manual measurement'], 'description': ['➤Features', '3 Louver Size 8-1/4\" X 4-3/8 Pre-drilled with four holes and not included screws 2 Pack of Stainless Steel Stamped Louvered Vent All-welded 304 stainless steel construction with polished finish'], 'price': 'None', 'images': {'hi_res': ['https://m.media-amazon.com/images/I/61yiaULvILL._AC_SL1500_.jpg', 'https://m.media-amazon.com/images/I/61sCMU+wi5L._AC_SL1500_.jpg', 'https://m.media-amazon.com/images/I/61uz5ZoN1cL._AC_SL1500_.jpg', 'https://m.media-amazon.com/images/I/61Sbi9TGuRL._AC_SL1500_.jpg', 'https://m.media-amazon.com/images/I/61Jib3vINhL._AC_SL1500_.jpg', 'https://m.media-amazon.com/images/I/61-WZg+J3DL._AC_SL1500_.jpg', 'https://m.media-amazon.com/images/I/51Bui5GfafL._AC_SL1500_.jpg', 'https://m.media-amazon.com/images/I/61l0pEuYFlL._AC_SL1500_.jpg', 'https://m.media-amazon.com/images/I/61fD76GsyTL._AC_SL1500_.jpg'], 'large': ['https://m.media-amazon.com/images/I/41fqW-JDNeL._AC_.jpg', 'https://m.media-amazon.com/images/I/41Wo5B90phL._AC_.jpg', 'https://m.media-amazon.com/images/I/417CvJ3FBIL._AC_.jpg', 'https://m.media-amazon.com/images/I/41Ui5JH2IcL._AC_.jpg', 'https://m.media-amazon.com/images/I/41xZl5DVpfL._AC_.jpg', 'https://m.media-amazon.com/images/I/41LxkOD+gtL._AC_.jpg', 'https://m.media-amazon.com/images/I/31jkL9WN41L._AC_.jpg', 'https://m.media-amazon.com/images/I/41uWZRNJmUL._AC_.jpg', 'https://m.media-amazon.com/images/I/416GuWus3ZL._AC_.jpg'], 'thumb': ['https://m.media-amazon.com/images/I/41fqW-JDNeL._AC_US75_.jpg', 'https://m.media-amazon.com/images/I/41Wo5B90phL._AC_US75_.jpg', 'https://m.media-amazon.com/images/I/417CvJ3FBIL._AC_US75_.jpg', 'https://m.media-amazon.com/images/I/41Ui5JH2IcL._AC_US75_.jpg', 'https://m.media-amazon.com/images/I/41xZl5DVpfL._AC_US75_.jpg', 'https://m.media-amazon.com/images/I/41LxkOD+gtL._AC_US75_.jpg', 'https://m.media-amazon.com/images/I/31jkL9WN41L._AC_US75_.jpg', 'https://m.media-amazon.com/images/I/41uWZRNJmUL._AC_US75_.jpg', 'https://m.media-amazon.com/images/I/416GuWus3ZL._AC_US75_.jpg'], 'variant': ['MAIN', 'PT01', 'PT02', 'PT03', 'PT04', 'PT05', 'PT06', 'PT07', 'PT08']}, 'videos': {'title': [], 'url': [], 'user_id': []}, 'store': 'Amarine Made', 'categories': ['Appliances', 'Parts & Accessories', 'Dryer Parts & Accessories', 'Vents'], 'details': '{\"Manufacturer\": \"Alfa Marine (shanghai) Co.,Ltd\", \"Part Number\": \"7727S3\", \"Item Weight\": \"14.6 ounces\", \"Package Dimensions\": \"9.41 x 6.22 x 2.72 inches\", \"Is Discontinued By Manufacturer\": \"No\", \"Item Package Quantity\": \"2\", \"Batteries Included?\": \"No\", \"Batteries Required?\": \"No\", \"Date First Available\": \"October 31, 2018\"}', 'parent_asin': 'B07HVRTQ3S', 'bought_together': None, 'subtitle': None, 'author': None}\n",
      "------------------------------------------------------------\n",
      "9\n"
     ]
    }
   ],
   "source": [
    "# How many doesn't have product title\n",
    "counter = 0\n",
    "for d in dataset:\n",
    "    try:\n",
    "        if d['title'] in null_list:\n",
    "            counter+=1\n",
    "            print(d)\n",
    "            print('--'*30) \n",
    "    except:\n",
    "        counter+=1\n",
    "        print(d)  \n",
    "        print('--'*30)      \n",
    "print(counter)       "
   ]
  },
  {
   "cell_type": "markdown",
   "metadata": {},
   "source": [
    "## Distribution of prices and character length of description"
   ]
  },
  {
   "cell_type": "code",
   "execution_count": 17,
   "metadata": {},
   "outputs": [],
   "source": [
    "prices = []\n",
    "lengths = []\n",
    "\n",
    "for d in dataset:\n",
    "    try:\n",
    "        price = float(d['price'])\n",
    "        title = d['title']\n",
    "        if price>0 and title not in null_list:\n",
    "            prices.append(price)\n",
    "            contents = d['title'] + str(d['description']) + str(d['features']) + str(d['details'])\n",
    "            lengths.append(len(contents))\n",
    "    except:\n",
    "        continue       \n",
    "        "
   ]
  },
  {
   "cell_type": "code",
   "execution_count": 18,
   "metadata": {},
   "outputs": [
    {
     "data": {
      "image/png": "[encoded data removed]",
      "text/plain": [
       "<Figure size 1500x600 with 1 Axes>"
      ]
     },
     "metadata": {},
     "output_type": "display_data"
    }
   ],
   "source": [
    "# Plot distribution of prices\n",
    "plt.figure(figsize=(15,6))\n",
    "plt.title(f\"Prices: Avg {sum(prices)/len(prices):,.2f}, min {min(prices):,.2f}, max {max(prices):,.2f}\")\n",
    "plt.xlabel('Price in $')\n",
    "plt.ylabel('Count')\n",
    "plt.hist(prices,rwidth = 0.8,bins=range(0,1000,20))\n",
    "plt.show()"
   ]
  },
  {
   "cell_type": "code",
   "execution_count": 31,
   "metadata": {},
   "outputs": [
    {
     "data": {
      "text/plain": [
       "{'1th percentile:': np.float64(5.77),\n",
       " '5th percentile:': np.float64(7.99),\n",
       " '25th percentile:': np.float64(14.99),\n",
       " '50th percentile:': np.float64(26.99),\n",
       " '75th percentile:': np.float64(58.13),\n",
       " '95th percentile:': np.float64(246.0),\n",
       " '99th percentile:': np.float64(1282.88)}"
      ]
     },
     "execution_count": 31,
     "metadata": {},
     "output_type": "execute_result"
    }
   ],
   "source": [
    "percentiles = [1,5,25,50,75,95,99]\n",
    "percentile_values = np.percentile(prices,percentiles)\n",
    "{f'{k}th percentile:': round(v,2) for (k,v) in zip(percentiles,percentile_values)}"
   ]
  },
  {
   "cell_type": "markdown",
   "metadata": {},
   "source": [
    "### Lets have a cutoff of prices till $1200"
   ]
  },
  {
   "cell_type": "code",
   "execution_count": null,
   "metadata": {},
   "outputs": [],
   "source": []
  }
 ],
 "metadata": {
  "kernelspec": {
   "display_name": ".venv",
   "language": "python",
   "name": "python3"
  },
  "language_info": {
   "codemirror_mode": {
    "name": "ipython",
    "version": 3
   },
   "file_extension": ".py",
   "mimetype": "text/x-python",
   "name": "python",
   "nbconvert_exporter": "python",
   "pygments_lexer": "ipython3",
   "version": "3.10.2"
  }
 },
 "nbformat": 4,
 "nbformat_minor": 2
}
